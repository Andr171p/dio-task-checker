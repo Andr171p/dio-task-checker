{
 "cells": [
  {
   "cell_type": "code",
   "execution_count": 1,
   "id": "a011baa3",
   "metadata": {},
   "outputs": [],
   "source": [
    "import pandas as pd"
   ]
  },
  {
   "cell_type": "code",
   "execution_count": 5,
   "id": "62442fb9",
   "metadata": {},
   "outputs": [
    {
     "data": {
      "text/html": [
       "<div>\n",
       "<style scoped>\n",
       "    .dataframe tbody tr th:only-of-type {\n",
       "        vertical-align: middle;\n",
       "    }\n",
       "\n",
       "    .dataframe tbody tr th {\n",
       "        vertical-align: top;\n",
       "    }\n",
       "\n",
       "    .dataframe thead th {\n",
       "        text-align: right;\n",
       "    }\n",
       "</style>\n",
       "<table border=\"1\" class=\"dataframe\">\n",
       "  <thead>\n",
       "    <tr style=\"text-align: right;\">\n",
       "      <th></th>\n",
       "      <th>Номер</th>\n",
       "      <th>Контрагент</th>\n",
       "      <th>Подразделение</th>\n",
       "      <th>Описание</th>\n",
       "      <th>Часы</th>\n",
       "      <th>Оценка</th>\n",
       "      <th>Комментарии</th>\n",
       "    </tr>\n",
       "  </thead>\n",
       "  <tbody>\n",
       "    <tr>\n",
       "      <th>0</th>\n",
       "      <td>БПФР-013882</td>\n",
       "      <td>КЕЖУЙ НЕФТЕГАЗОВЫЕ УСЛУГИ ООО</td>\n",
       "      <td>Отдел автоматизации ЗУП</td>\n",
       "      <td>Инициатор: Шамамедов Бяшим Шаджанович \\nРуково...</td>\n",
       "      <td>99.00</td>\n",
       "      <td>9</td>\n",
       "      <td>Замечания:\\n\\n1. **Детализация задач**: Некото...</td>\n",
       "    </tr>\n",
       "    <tr>\n",
       "      <th>1</th>\n",
       "      <td>БПФР-014539</td>\n",
       "      <td>КЕЖУЙ НЕФТЕГАЗОВЫЕ УСЛУГИ ООО</td>\n",
       "      <td>Отдел автоматизации ЗУП</td>\n",
       "      <td>Тикет №КЖ000000119\\nИнициатор: Калачева Галина...</td>\n",
       "      <td>3.00</td>\n",
       "      <td>8</td>\n",
       "      <td>Замечания к заданию:\\n\\n1. **Недостаточно инфо...</td>\n",
       "    </tr>\n",
       "    <tr>\n",
       "      <th>2</th>\n",
       "      <td>БПФР-014670</td>\n",
       "      <td>БСТ ООО</td>\n",
       "      <td>Отдел автоматизации БУ и УУ</td>\n",
       "      <td>Работа с пользователями Шахты \"Большевик\", Шах...</td>\n",
       "      <td>31.25</td>\n",
       "      <td>1</td>\n",
       "      <td>Задание требует уточнения. Необходимо более че...</td>\n",
       "    </tr>\n",
       "  </tbody>\n",
       "</table>\n",
       "</div>"
      ],
      "text/plain": [
       "         Номер                     Контрагент                Подразделение  \\\n",
       "0  БПФР-013882  КЕЖУЙ НЕФТЕГАЗОВЫЕ УСЛУГИ ООО      Отдел автоматизации ЗУП   \n",
       "1  БПФР-014539  КЕЖУЙ НЕФТЕГАЗОВЫЕ УСЛУГИ ООО      Отдел автоматизации ЗУП   \n",
       "2  БПФР-014670                        БСТ ООО  Отдел автоматизации БУ и УУ   \n",
       "\n",
       "                                            Описание   Часы  Оценка  \\\n",
       "0  Инициатор: Шамамедов Бяшим Шаджанович \\nРуково...  99.00       9   \n",
       "1  Тикет №КЖ000000119\\nИнициатор: Калачева Галина...   3.00       8   \n",
       "2  Работа с пользователями Шахты \"Большевик\", Шах...  31.25       1   \n",
       "\n",
       "                                         Комментарии  \n",
       "0  Замечания:\\n\\n1. **Детализация задач**: Некото...  \n",
       "1  Замечания к заданию:\\n\\n1. **Недостаточно инфо...  \n",
       "2  Задание требует уточнения. Необходимо более че...  "
      ]
     },
     "execution_count": 5,
     "metadata": {},
     "output_type": "execute_result"
    }
   ],
   "source": [
    "file_path = r\"C:\\Users\\andre\\DIOTasks\\scripts\\evaluated_tasks_with_jobs.csv\"\n",
    "\n",
    "df = pd.read_csv(file_path)\n",
    "df.drop(\"Unnamed: 0\", axis=1, inplace=True)\n",
    "df.head(3)"
   ]
  },
  {
   "cell_type": "code",
   "execution_count": 6,
   "id": "970a65be",
   "metadata": {},
   "outputs": [
    {
     "data": {
      "text/html": [
       "<div>\n",
       "<style scoped>\n",
       "    .dataframe tbody tr th:only-of-type {\n",
       "        vertical-align: middle;\n",
       "    }\n",
       "\n",
       "    .dataframe tbody tr th {\n",
       "        vertical-align: top;\n",
       "    }\n",
       "\n",
       "    .dataframe thead th {\n",
       "        text-align: right;\n",
       "    }\n",
       "</style>\n",
       "<table border=\"1\" class=\"dataframe\">\n",
       "  <thead>\n",
       "    <tr style=\"text-align: right;\">\n",
       "      <th></th>\n",
       "      <th>Номер</th>\n",
       "      <th>Контрагент</th>\n",
       "      <th>Часы</th>\n",
       "      <th>Оценка</th>\n",
       "    </tr>\n",
       "  </thead>\n",
       "  <tbody>\n",
       "    <tr>\n",
       "      <th>0</th>\n",
       "      <td>БПФР-013882</td>\n",
       "      <td>КЕЖУЙ НЕФТЕГАЗОВЫЕ УСЛУГИ ООО</td>\n",
       "      <td>99.00</td>\n",
       "      <td>9</td>\n",
       "    </tr>\n",
       "    <tr>\n",
       "      <th>1</th>\n",
       "      <td>БПФР-014539</td>\n",
       "      <td>КЕЖУЙ НЕФТЕГАЗОВЫЕ УСЛУГИ ООО</td>\n",
       "      <td>3.00</td>\n",
       "      <td>8</td>\n",
       "    </tr>\n",
       "    <tr>\n",
       "      <th>2</th>\n",
       "      <td>БПФР-014670</td>\n",
       "      <td>БСТ ООО</td>\n",
       "      <td>31.25</td>\n",
       "      <td>1</td>\n",
       "    </tr>\n",
       "    <tr>\n",
       "      <th>3</th>\n",
       "      <td>БПФР-014717</td>\n",
       "      <td>БСТ ООО</td>\n",
       "      <td>100.00</td>\n",
       "      <td>1</td>\n",
       "    </tr>\n",
       "    <tr>\n",
       "      <th>4</th>\n",
       "      <td>БПФР-014590</td>\n",
       "      <td>КЕЖУЙ НЕФТЕГАЗОВЫЕ УСЛУГИ ООО</td>\n",
       "      <td>2.50</td>\n",
       "      <td>8</td>\n",
       "    </tr>\n",
       "  </tbody>\n",
       "</table>\n",
       "</div>"
      ],
      "text/plain": [
       "         Номер                     Контрагент    Часы  Оценка\n",
       "0  БПФР-013882  КЕЖУЙ НЕФТЕГАЗОВЫЕ УСЛУГИ ООО   99.00       9\n",
       "1  БПФР-014539  КЕЖУЙ НЕФТЕГАЗОВЫЕ УСЛУГИ ООО    3.00       8\n",
       "2  БПФР-014670                        БСТ ООО   31.25       1\n",
       "3  БПФР-014717                        БСТ ООО  100.00       1\n",
       "4  БПФР-014590  КЕЖУЙ НЕФТЕГАЗОВЫЕ УСЛУГИ ООО    2.50       8"
      ]
     },
     "execution_count": 6,
     "metadata": {},
     "output_type": "execute_result"
    }
   ],
   "source": [
    "df = df[[\"Номер\", \"Контрагент\", \"Часы\", \"Оценка\"]]\n",
    "\n",
    "df.head(5)"
   ]
  },
  {
   "cell_type": "code",
   "execution_count": 7,
   "id": "6a50cc34",
   "metadata": {},
   "outputs": [],
   "source": [
    "df.to_csv(\"evaluated_task_rates.csv\")"
   ]
  }
 ],
 "metadata": {
  "kernelspec": {
   "display_name": "Python 3",
   "language": "python",
   "name": "python3"
  },
  "language_info": {
   "codemirror_mode": {
    "name": "ipython",
    "version": 3
   },
   "file_extension": ".py",
   "mimetype": "text/x-python",
   "name": "python",
   "nbconvert_exporter": "python",
   "pygments_lexer": "ipython3",
   "version": "3.11.3"
  }
 },
 "nbformat": 4,
 "nbformat_minor": 5
}
