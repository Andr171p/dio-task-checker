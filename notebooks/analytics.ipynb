{
 "cells": [
  {
   "cell_type": "code",
   "execution_count": 1,
   "metadata": {},
   "outputs": [],
   "source": [
    "import os\n",
    "import pandas as pd"
   ]
  },
  {
   "cell_type": "code",
   "execution_count": 6,
   "metadata": {},
   "outputs": [
    {
     "data": {
      "text/plain": [
       "'c:\\\\\\\\Users\\\\\\\\andre\\\\\\\\DIOTasks\\\\evaluated_tasks.csv'"
      ]
     },
     "execution_count": 6,
     "metadata": {},
     "output_type": "execute_result"
    }
   ],
   "source": [
    "BASE_DIR = r\"c:\\\\Users\\\\andre\\\\DIOTasks\"\n",
    "\n",
    "FILE_PATH = os.path.join(BASE_DIR, \"evaluated_tasks.csv\")\n",
    "\n",
    "FILE_PATH"
   ]
  },
  {
   "cell_type": "code",
   "execution_count": 7,
   "metadata": {},
   "outputs": [
    {
     "name": "stdout",
     "output_type": "stream",
     "text": [
      "<class 'pandas.core.frame.DataFrame'>\n",
      "RangeIndex: 182 entries, 0 to 181\n",
      "Data columns (total 8 columns):\n",
      " #   Column         Non-Null Count  Dtype  \n",
      "---  ------         --------------  -----  \n",
      " 0   Unnamed: 0     182 non-null    int64  \n",
      " 1   Номер          182 non-null    object \n",
      " 2   Контрагент     182 non-null    object \n",
      " 3   Подразделение  182 non-null    object \n",
      " 4   Описание       176 non-null    object \n",
      " 5   Часы           181 non-null    float64\n",
      " 6   Оценка         182 non-null    int64  \n",
      " 7   Комментарии    182 non-null    object \n",
      "dtypes: float64(1), int64(2), object(5)\n",
      "memory usage: 11.5+ KB\n"
     ]
    }
   ],
   "source": [
    "df = pd.read_csv(FILE_PATH)\n",
    "\n",
    "df.info()"
   ]
  },
  {
   "cell_type": "code",
   "execution_count": 8,
   "metadata": {},
   "outputs": [
    {
     "data": {
      "text/html": [
       "<div>\n",
       "<style scoped>\n",
       "    .dataframe tbody tr th:only-of-type {\n",
       "        vertical-align: middle;\n",
       "    }\n",
       "\n",
       "    .dataframe tbody tr th {\n",
       "        vertical-align: top;\n",
       "    }\n",
       "\n",
       "    .dataframe thead th {\n",
       "        text-align: right;\n",
       "    }\n",
       "</style>\n",
       "<table border=\"1\" class=\"dataframe\">\n",
       "  <thead>\n",
       "    <tr style=\"text-align: right;\">\n",
       "      <th></th>\n",
       "      <th>Unnamed: 0</th>\n",
       "      <th>Номер</th>\n",
       "      <th>Контрагент</th>\n",
       "      <th>Подразделение</th>\n",
       "      <th>Описание</th>\n",
       "      <th>Часы</th>\n",
       "      <th>Оценка</th>\n",
       "      <th>Комментарии</th>\n",
       "    </tr>\n",
       "  </thead>\n",
       "  <tbody>\n",
       "    <tr>\n",
       "      <th>0</th>\n",
       "      <td>0</td>\n",
       "      <td>БПФР-013882</td>\n",
       "      <td>КЕЖУЙ НЕФТЕГАЗОВЫЕ УСЛУГИ ООО</td>\n",
       "      <td>Отдел автоматизации ЗУП</td>\n",
       "      <td>Инициатор: Шамамедов Бяшим Шаджанович \\nРуково...</td>\n",
       "      <td>99.0</td>\n",
       "      <td>1</td>\n",
       "      <td>Замечания по заданию:\\n\\n1. **Ясность информац...</td>\n",
       "    </tr>\n",
       "    <tr>\n",
       "      <th>1</th>\n",
       "      <td>1</td>\n",
       "      <td>БПФР-014554</td>\n",
       "      <td>РЕГИОНАЛЬНАЯ УПРАВЛЯЮЩАЯ КОМПАНИЯ ООО</td>\n",
       "      <td>Отдел автоматизации ПУ и ОУ</td>\n",
       "      <td>Обновление информационных баз нетиповой конфиг...</td>\n",
       "      <td>12.0</td>\n",
       "      <td>10</td>\n",
       "      <td>Задание недостаточно детализировано. Необходим...</td>\n",
       "    </tr>\n",
       "    <tr>\n",
       "      <th>2</th>\n",
       "      <td>2</td>\n",
       "      <td>БПФР-014539</td>\n",
       "      <td>КЕЖУЙ НЕФТЕГАЗОВЫЕ УСЛУГИ ООО</td>\n",
       "      <td>Отдел автоматизации ЗУП</td>\n",
       "      <td>Тикет №КЖ000000119\\nИнициатор: Калачева Галина...</td>\n",
       "      <td>3.0</td>\n",
       "      <td>8</td>\n",
       "      <td>Замечания по заданию:\\n\\n1. **Описание задачи*...</td>\n",
       "    </tr>\n",
       "  </tbody>\n",
       "</table>\n",
       "</div>"
      ],
      "text/plain": [
       "   Unnamed: 0        Номер                             Контрагент  \\\n",
       "0           0  БПФР-013882          КЕЖУЙ НЕФТЕГАЗОВЫЕ УСЛУГИ ООО   \n",
       "1           1  БПФР-014554  РЕГИОНАЛЬНАЯ УПРАВЛЯЮЩАЯ КОМПАНИЯ ООО   \n",
       "2           2  БПФР-014539          КЕЖУЙ НЕФТЕГАЗОВЫЕ УСЛУГИ ООО   \n",
       "\n",
       "                 Подразделение  \\\n",
       "0      Отдел автоматизации ЗУП   \n",
       "1  Отдел автоматизации ПУ и ОУ   \n",
       "2      Отдел автоматизации ЗУП   \n",
       "\n",
       "                                            Описание  Часы  Оценка  \\\n",
       "0  Инициатор: Шамамедов Бяшим Шаджанович \\nРуково...  99.0       1   \n",
       "1  Обновление информационных баз нетиповой конфиг...  12.0      10   \n",
       "2  Тикет №КЖ000000119\\nИнициатор: Калачева Галина...   3.0       8   \n",
       "\n",
       "                                         Комментарии  \n",
       "0  Замечания по заданию:\\n\\n1. **Ясность информац...  \n",
       "1  Задание недостаточно детализировано. Необходим...  \n",
       "2  Замечания по заданию:\\n\\n1. **Описание задачи*...  "
      ]
     },
     "execution_count": 8,
     "metadata": {},
     "output_type": "execute_result"
    }
   ],
   "source": [
    "df.head(3)"
   ]
  },
  {
   "cell_type": "code",
   "execution_count": 10,
   "metadata": {},
   "outputs": [
    {
     "data": {
      "text/plain": [
       "12.197016574585634"
      ]
     },
     "execution_count": 10,
     "metadata": {},
     "output_type": "execute_result"
    }
   ],
   "source": [
    "df[\"Часы\"].mean()"
   ]
  },
  {
   "cell_type": "code",
   "execution_count": 11,
   "metadata": {},
   "outputs": [
    {
     "data": {
      "text/plain": [
       "5.428571428571429"
      ]
     },
     "execution_count": 11,
     "metadata": {},
     "output_type": "execute_result"
    }
   ],
   "source": [
    "df[\"Оценка\"].mean()"
   ]
  }
 ],
 "metadata": {
  "kernelspec": {
   "display_name": "Python 3",
   "language": "python",
   "name": "python3"
  },
  "language_info": {
   "codemirror_mode": {
    "name": "ipython",
    "version": 3
   },
   "file_extension": ".py",
   "mimetype": "text/x-python",
   "name": "python",
   "nbconvert_exporter": "python",
   "pygments_lexer": "ipython3",
   "version": "3.11.3"
  }
 },
 "nbformat": 4,
 "nbformat_minor": 2
}
