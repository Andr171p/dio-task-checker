{
 "cells": [
  {
   "cell_type": "code",
   "execution_count": 1,
   "metadata": {},
   "outputs": [],
   "source": [
    "import os\n",
    "import pandas as pd"
   ]
  },
  {
   "cell_type": "code",
   "execution_count": 2,
   "metadata": {},
   "outputs": [
    {
     "data": {
      "text/plain": [
       "'c:\\\\\\\\Users\\\\\\\\andre\\\\\\\\DIOTasks\\\\scripts\\\\evaluated_tasks_with_jobs.csv'"
      ]
     },
     "execution_count": 2,
     "metadata": {},
     "output_type": "execute_result"
    }
   ],
   "source": [
    "BASE_DIR = r\"c:\\\\Users\\\\andre\\\\DIOTasks\"\n",
    "\n",
    "FILE_PATH = os.path.join(BASE_DIR, \"scripts\", \"evaluated_tasks_with_jobs.csv\")\n",
    "\n",
    "FILE_PATH"
   ]
  },
  {
   "cell_type": "code",
   "execution_count": 3,
   "metadata": {},
   "outputs": [
    {
     "name": "stdout",
     "output_type": "stream",
     "text": [
      "<class 'pandas.core.frame.DataFrame'>\n",
      "RangeIndex: 133 entries, 0 to 132\n",
      "Data columns (total 8 columns):\n",
      " #   Column         Non-Null Count  Dtype  \n",
      "---  ------         --------------  -----  \n",
      " 0   Unnamed: 0     133 non-null    int64  \n",
      " 1   Номер          133 non-null    object \n",
      " 2   Контрагент     133 non-null    object \n",
      " 3   Подразделение  133 non-null    object \n",
      " 4   Описание       133 non-null    object \n",
      " 5   Часы           132 non-null    float64\n",
      " 6   Оценка         133 non-null    int64  \n",
      " 7   Комментарии    133 non-null    object \n",
      "dtypes: float64(1), int64(2), object(5)\n",
      "memory usage: 8.4+ KB\n"
     ]
    }
   ],
   "source": [
    "df = pd.read_csv(FILE_PATH)\n",
    "\n",
    "df.info()"
   ]
  },
  {
   "cell_type": "code",
   "execution_count": 4,
   "metadata": {},
   "outputs": [
    {
     "data": {
      "text/plain": [
       "(133, 8)"
      ]
     },
     "execution_count": 4,
     "metadata": {},
     "output_type": "execute_result"
    }
   ],
   "source": [
    "df.shape"
   ]
  },
  {
   "cell_type": "code",
   "execution_count": 5,
   "metadata": {},
   "outputs": [
    {
     "data": {
      "text/html": [
       "<div>\n",
       "<style scoped>\n",
       "    .dataframe tbody tr th:only-of-type {\n",
       "        vertical-align: middle;\n",
       "    }\n",
       "\n",
       "    .dataframe tbody tr th {\n",
       "        vertical-align: top;\n",
       "    }\n",
       "\n",
       "    .dataframe thead th {\n",
       "        text-align: right;\n",
       "    }\n",
       "</style>\n",
       "<table border=\"1\" class=\"dataframe\">\n",
       "  <thead>\n",
       "    <tr style=\"text-align: right;\">\n",
       "      <th></th>\n",
       "      <th>Unnamed: 0</th>\n",
       "      <th>Номер</th>\n",
       "      <th>Контрагент</th>\n",
       "      <th>Подразделение</th>\n",
       "      <th>Описание</th>\n",
       "      <th>Часы</th>\n",
       "      <th>Оценка</th>\n",
       "      <th>Комментарии</th>\n",
       "    </tr>\n",
       "  </thead>\n",
       "  <tbody>\n",
       "    <tr>\n",
       "      <th>0</th>\n",
       "      <td>0</td>\n",
       "      <td>БПФР-013882</td>\n",
       "      <td>КЕЖУЙ НЕФТЕГАЗОВЫЕ УСЛУГИ ООО</td>\n",
       "      <td>Отдел автоматизации ЗУП</td>\n",
       "      <td>Инициатор: Шамамедов Бяшим Шаджанович \\nРуково...</td>\n",
       "      <td>99.00</td>\n",
       "      <td>9</td>\n",
       "      <td>Замечания:\\n\\n1. **Детализация задач**: Некото...</td>\n",
       "    </tr>\n",
       "    <tr>\n",
       "      <th>1</th>\n",
       "      <td>1</td>\n",
       "      <td>БПФР-014539</td>\n",
       "      <td>КЕЖУЙ НЕФТЕГАЗОВЫЕ УСЛУГИ ООО</td>\n",
       "      <td>Отдел автоматизации ЗУП</td>\n",
       "      <td>Тикет №КЖ000000119\\nИнициатор: Калачева Галина...</td>\n",
       "      <td>3.00</td>\n",
       "      <td>8</td>\n",
       "      <td>Замечания к заданию:\\n\\n1. **Недостаточно инфо...</td>\n",
       "    </tr>\n",
       "    <tr>\n",
       "      <th>2</th>\n",
       "      <td>2</td>\n",
       "      <td>БПФР-014670</td>\n",
       "      <td>БСТ ООО</td>\n",
       "      <td>Отдел автоматизации БУ и УУ</td>\n",
       "      <td>Работа с пользователями Шахты \"Большевик\", Шах...</td>\n",
       "      <td>31.25</td>\n",
       "      <td>1</td>\n",
       "      <td>Задание требует уточнения. Необходимо более че...</td>\n",
       "    </tr>\n",
       "  </tbody>\n",
       "</table>\n",
       "</div>"
      ],
      "text/plain": [
       "   Unnamed: 0        Номер                     Контрагент  \\\n",
       "0           0  БПФР-013882  КЕЖУЙ НЕФТЕГАЗОВЫЕ УСЛУГИ ООО   \n",
       "1           1  БПФР-014539  КЕЖУЙ НЕФТЕГАЗОВЫЕ УСЛУГИ ООО   \n",
       "2           2  БПФР-014670                        БСТ ООО   \n",
       "\n",
       "                 Подразделение  \\\n",
       "0      Отдел автоматизации ЗУП   \n",
       "1      Отдел автоматизации ЗУП   \n",
       "2  Отдел автоматизации БУ и УУ   \n",
       "\n",
       "                                            Описание   Часы  Оценка  \\\n",
       "0  Инициатор: Шамамедов Бяшим Шаджанович \\nРуково...  99.00       9   \n",
       "1  Тикет №КЖ000000119\\nИнициатор: Калачева Галина...   3.00       8   \n",
       "2  Работа с пользователями Шахты \"Большевик\", Шах...  31.25       1   \n",
       "\n",
       "                                         Комментарии  \n",
       "0  Замечания:\\n\\n1. **Детализация задач**: Некото...  \n",
       "1  Замечания к заданию:\\n\\n1. **Недостаточно инфо...  \n",
       "2  Задание требует уточнения. Необходимо более че...  "
      ]
     },
     "execution_count": 5,
     "metadata": {},
     "output_type": "execute_result"
    }
   ],
   "source": [
    "df.head(3)"
   ]
  },
  {
   "cell_type": "code",
   "execution_count": 6,
   "metadata": {},
   "outputs": [
    {
     "data": {
      "text/plain": [
       "12.16840909090909"
      ]
     },
     "execution_count": 6,
     "metadata": {},
     "output_type": "execute_result"
    }
   ],
   "source": [
    "df[\"Часы\"].mean()"
   ]
  },
  {
   "cell_type": "code",
   "execution_count": 7,
   "metadata": {},
   "outputs": [
    {
     "data": {
      "text/plain": [
       "7.3007518796992485"
      ]
     },
     "execution_count": 7,
     "metadata": {},
     "output_type": "execute_result"
    }
   ],
   "source": [
    "df[\"Оценка\"].mean()"
   ]
  }
 ],
 "metadata": {
  "kernelspec": {
   "display_name": "Python 3",
   "language": "python",
   "name": "python3"
  },
  "language_info": {
   "codemirror_mode": {
    "name": "ipython",
    "version": 3
   },
   "file_extension": ".py",
   "mimetype": "text/x-python",
   "name": "python",
   "nbconvert_exporter": "python",
   "pygments_lexer": "ipython3",
   "version": "3.11.3"
  }
 },
 "nbformat": 4,
 "nbformat_minor": 2
}
